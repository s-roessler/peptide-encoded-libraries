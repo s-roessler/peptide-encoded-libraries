{
 "cells": [
  {
   "cell_type": "code",
   "execution_count": 1,
   "id": "2670e259",
   "metadata": {},
   "outputs": [],
   "source": [
    "import pandas as pd\n",
    "import itertools"
   ]
  },
  {
   "cell_type": "code",
   "execution_count": 2,
   "id": "80d58791",
   "metadata": {},
   "outputs": [],
   "source": [
    "# read in library design\n",
    "CC_PEL = pd.read_excel('library_design/CC_PEL_design.xlsx')\n",
    "CN_PEL = pd.read_excel('library_design/CN_PEL_design.xlsx')\n",
    "\n",
    "#define monomer masses in dict\n",
    "monomer_masses = {'a':85.0528,'b': 111.0684,'c': 113.0477,'d': 115.0633,'e': 125.0841,'f': 141.1151,'g': 153.1154,\n",
    "                  'h': 207.0895,'A': 71.0371,'F': 147.0684,'K': 128.09496,'L': 113.0841,'P': 97.0528,'S': 87.0320,\n",
    "                  'T': 101.0477,'V': 99.0684,'Y': 163.0633,'z': 59.0609,'H':1.0078}\n",
    "\n",
    "#define dict of one and three letter code \n",
    "one_letter_code = {'a':'Abu','b': 'Cpa','c': 'Hyp','d': 'Mox','e': 'Cba','f': 'Aoa','g': 'Cha',\n",
    "                    'h': 'Dmf','A': 'Ala','F': 'Phe','K': 'Lys','L': 'Leu','P': 'Pro','S': 'Ser',\n",
    "                   'T': 'Thr','V': 'Val','Y': 'Tyr', '':'none'}\n",
    "\n",
    "#transpose letter dict for decoding\n",
    "transposed_one_letter_code = {key: value for (value, key) in one_letter_code.items()}"
   ]
  },
  {
   "cell_type": "code",
   "execution_count": 3,
   "id": "7381656c",
   "metadata": {},
   "outputs": [
    {
     "name": "stdout",
     "output_type": "stream",
     "text": [
      "In the library of 39168 peptides, there are 949 unique masses for the z=3 charge state ( 2.4 %).\n"
     ]
    }
   ],
   "source": [
    "#mass list for CC_PEL\n",
    "\n",
    "dfmass = CC_PEL\n",
    "\n",
    "#translate three letter code to one letter code\n",
    "dfmass = dfmass.replace({'set_1': transposed_one_letter_code})\n",
    "dfmass = dfmass.replace({'set_2': transposed_one_letter_code})\n",
    "\n",
    "#combine the single letter amino acids into the correpsonding codon\n",
    "dfmass['codon'] = dfmass['set_1'] + dfmass['set_2']\n",
    "\n",
    "#extract lists with possible codons generating subsets for combinatorial generation\n",
    "linker_codons = dfmass.loc[dfmass['type'] == 'linker', 'codon'].values\n",
    "triBB_codons = dfmass.loc[dfmass['type'] == 'triBB', 'codon'].values\n",
    "CA_codons = dfmass.loc[dfmass['type'] == 'CA', 'codon'].values\n",
    "BA_codons = dfmass.loc[dfmass['type'] == 'BA', 'codon'].values\n",
    "\n",
    "#generate possible peptides using the subsets (starting from N-term)\n",
    "pepset = ['A']\n",
    "pepset = [i+str(j) for i in pepset for j in BA_codons]      \n",
    "pepset = [i+'K' for i in pepset]\n",
    "pepset = [i+str(j) for i in pepset for j in CA_codons] \n",
    "pepset = [i+'S' for i in pepset] \n",
    "pepset = [i+str(j) for i in pepset for j in triBB_codons]\n",
    "pepset = [i+str(j) for i in pepset for j in linker_codons]\n",
    "pepset = [i+'KzH' for i in pepset]\n",
    "\n",
    "masslist = []\n",
    "\n",
    "for pep in pepset:\n",
    "    pepmass = 0\n",
    "    for aminoacid in pep:\n",
    "        pepmass += monomer_masses[aminoacid]\n",
    "    masslist.append(pepmass)\n",
    "    \n",
    "#export unique mass in charge state 3 for targeted mass list\n",
    "unique_z3 = sorted(set([round((x+3*1.0073)/3,4) for x in masslist]))\n",
    "pd.DataFrame(zip(unique_z3,itertools.repeat(3))).to_csv(\"CC_PEL_masses.csv\", index=True,header = False)\n",
    "    \n",
    "#Calculate percentage of unique masses\n",
    "print('In the library of',len(pepset),'peptides, there are',\n",
    "      len(unique_z3),'unique masses for the z=3 charge state (',round(len(unique_z3)/len(pepset)*100,1),'%).')"
   ]
  },
  {
   "cell_type": "code",
   "execution_count": 4,
   "id": "d00d9272",
   "metadata": {},
   "outputs": [
    {
     "name": "stdout",
     "output_type": "stream",
     "text": [
      "In the library of 42432 peptides, there are 1116 unique masses for the z=3 charge state ( 2.6 %).\n"
     ]
    }
   ],
   "source": [
    "#mass list for CN_PEL\n",
    "\n",
    "dfmass = CN_PEL\n",
    "\n",
    "#translate three letter code to one letter code\n",
    "dfmass = dfmass.replace({'set_1': transposed_one_letter_code})\n",
    "dfmass = dfmass.replace({'set_2': transposed_one_letter_code})\n",
    "\n",
    "#combine the single letter amino acids into the correpsonding codon\n",
    "dfmass['codon'] = dfmass['set_1'] + dfmass['set_2']\n",
    "\n",
    "#extract lists with possible codons generating subsets for combinatorial generation\n",
    "linker_codons = dfmass.loc[dfmass['type'] == 'linker', 'codon'].values\n",
    "triBB_codons = dfmass.loc[dfmass['type'] == 'triBB', 'codon'].values\n",
    "CA_codons = dfmass.loc[dfmass['type'] == 'CA', 'codon'].values\n",
    "aniline_codons = dfmass.loc[dfmass['type'] == 'aniline', 'codon'].values\n",
    "\n",
    "#generate possible peptides using the subsets (starting from N-term)\n",
    "pepset = ['V']\n",
    "pepset = [i+str(j) for i in pepset for j in aniline_codons]      \n",
    "pepset = [i+'K' for i in pepset]\n",
    "pepset = [i+str(j) for i in pepset for j in CA_codons] \n",
    "pepset = [i+'S' for i in pepset] \n",
    "pepset = [i+str(j) for i in pepset for j in triBB_codons]\n",
    "pepset = [i+str(j) for i in pepset for j in linker_codons]\n",
    "pepset = [i+'KzH' for i in pepset]\n",
    "\n",
    "masslist = []\n",
    "\n",
    "for pep in pepset:\n",
    "    pepmass = 0\n",
    "    for aminoacid in pep:\n",
    "        pepmass += monomer_masses[aminoacid]\n",
    "    masslist.append(pepmass)\n",
    "    \n",
    "#export unique mass in charge state 3 for targeted mass list\n",
    "unique_z3 = sorted(set([round((x+3*1.0073)/3,4) for x in masslist]))\n",
    "pd.DataFrame(zip(unique_z3,itertools.repeat(3))).to_csv(\"CN_PEL_masses.csv\", index=True,header = False)\n",
    "    \n",
    "#Calculate percentage of unique masses\n",
    "print('In the library of',len(pepset),'peptides, there are',\n",
    "      len(unique_z3),'unique masses for the z=3 charge state (',round(len(unique_z3)/len(pepset)*100,1),'%).')"
   ]
  },
  {
   "cell_type": "code",
   "execution_count": null,
   "id": "0f18cde1",
   "metadata": {},
   "outputs": [],
   "source": []
  }
 ],
 "metadata": {
  "kernelspec": {
   "display_name": "Python 3",
   "language": "python",
   "name": "python3"
  },
  "language_info": {
   "codemirror_mode": {
    "name": "ipython",
    "version": 3
   },
   "file_extension": ".py",
   "mimetype": "text/x-python",
   "name": "python",
   "nbconvert_exporter": "python",
   "pygments_lexer": "ipython3",
   "version": "3.9.12"
  }
 },
 "nbformat": 4,
 "nbformat_minor": 5
}
